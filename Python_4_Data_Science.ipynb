{
 "cells": [
  {
   "cell_type": "code",
   "execution_count": 52,
   "metadata": {},
   "outputs": [
    {
     "ename": "IndentationError",
     "evalue": "unexpected indent (<ipython-input-52-02095ddc759e>, line 27)",
     "output_type": "error",
     "traceback": [
      "\u001b[1;36m  File \u001b[1;32m\"<ipython-input-52-02095ddc759e>\"\u001b[1;36m, line \u001b[1;32m27\u001b[0m\n\u001b[1;33m    creates(a, float)\u001b[0m\n\u001b[1;37m    ^\u001b[0m\n\u001b[1;31mIndentationError\u001b[0m\u001b[1;31m:\u001b[0m unexpected indent\n"
     ]
    }
   ],
   "source": [
    "#Python\n",
    "\n",
    "#Word > String\n",
    "#Number < Integer or Float\n",
    "\n",
    "#Integers (int) = \n",
    "#Real Numbers (float) = 21.213\n",
    "#Words or text ('string') = 'Hello World'\n",
    "\n",
    "#to see the data type we type \"type\" and shift to run\n",
    "\n",
    "#integers = negative or positive whole numbers\n",
    "#floats = include decimals\n",
    "\n",
    "#typecasting = convert to float, integer, or string\n",
    "\n",
    "#boolean values\n",
    "#True = 1\n",
    "#False = 0\n",
    "\n",
    "#upper case T or F for True or False\n",
    "\n",
    "#Expressions\n",
    "   #Operands are strings, int, floats. \n",
    "    #Operators are the signs... + - * / and //\n",
    "    \n",
    "    / creates a float\n",
    "    // creates an integer\n",
    "\n",
    "#You can do a variety of mathematical operations in Python including:\n",
    "#addition: 2 + 2\n",
    "#subtraction: 5 - 2\n",
    "#multiplication: 3 * 2\n",
    "#division: 4 / 2\n",
    "#exponentiation: 4 ** 2\n",
    "\n",
    "#Boolean is another important  type in Python; a Boolean can take on two values. The first value is true, just remember we use an uppercase T:\n",
    "True\n",
    "\n",
    "#If we cast a Boolean true to an integer or float we will get a 1, if we cast a Boolean false to an integer or float. If we get a zero if you cast a 1 to a boolean, you get a true similarly, if you cast a 0 to a Boolean you get a false.\n",
    "int(True)\n",
    "\n",
    "EXPRESSIONS\n",
    "\n",
    "#Python follows mathematical conventions when performing mathematical expressions. The following operations are in different order. In both cases Python performs multiplication, then addition to obtain the final result.\n",
    "\n",
    "2 * 60 + 30\n",
    "\n",
    "#The expressions in the parentheses are performed first. We then multiply the result by 60, the result is 1920.\n",
    "    \n",
    "(30 + 2) * 60  \n",
    "\n",
    "\n",
    "\n",
    "\n",
    "25 / 6\n",
    "4.166666666666667\n",
    "\n",
    "160 // 60\n",
    "2\n",
    "\n",
    "VARIABLES\n",
    "\n",
    "43 + 60 + 16 + 41\n",
    "\n",
    "#To return the value of **`x`**, we can simply run the variable as a command:\n",
    "x = 43 + 60 + 16 + 41\n",
    "\n",
    "#We can also perform operations on **`x`** and save the result to a **new variable**:\n",
    "\n",
    "y = x / 60\n",
    "y\n",
    "2.6666666666666665\n",
    "\n",
    "#If we save something to an **existing variable**, it will **overwrite** the previous value:\n",
    "\n",
    "x = x / 60\n",
    "x\n",
    "\n",
    "#It's good practice to use **meaningful variable names**, so you don't have to keep track of what variable is what:\n",
    "    \n",
    "total_min = (43 + 42 )\n",
    "total_min\n",
    "\n",
    "STRINGS\n",
    "\n",
    "String is a sequence of characters contained within two quotes: \n",
    "    \"Michael Jackson\"\n",
    "    \n",
    "    You can also use single quotes 'Michael Jackson'\n",
    "    A string can be spaces or digits \"1 2 3 4 5 6\"\n",
    "    A string can also be special charaters: '@#2_#]&*^%$'\n",
    "        \n",
    "        Name= \"Michael Jackson\"\n",
    "        Think of a string as an ordered sequence:  M I C H A E L   J  A  C  K  S  O  N\n",
    "                                                   0 1 2 3 4 5 6 7 8  9  10 11 12 13 14  \n",
    "                Each element in the sequence can be accessed in an index represnted by a sequence of numbers\n",
    "                Name[0]:M\n",
    "                Name[6]:L\n",
    "                Name[13]o\n",
    "                \n",
    "                Can also use negative indexing with strings\n",
    "                \n",
    "                M   i    c   h  a  e  l   J  a  c  k  s  o  n\n",
    "               -15 -14 -13 -12 -13                          -1\n",
    "                Name[-1]: n\n",
    "                Name[-15]: M\n",
    "                    \n",
    "                    \n",
    "                Michael Jackson\n",
    "                Name: [0:4]=Mich\n",
    "                Name: [8:12]=Jack\n",
    "                    \n",
    "    Name:[::2] \"Mcaljcsn\"    < grabs every second variable            \n",
    "    Name[0:5:2]: \"Mca\" < every second value upto index 4\n",
    "                \n",
    "               \n",
    "OBTAIN LENGTH\n",
    "   Len Command to obtain the length of the string\n",
    "\n",
    "   Len(\"Michael Jackson\") < result is 15\n",
    "\n",
    "COMBINE STRINGS\n",
    "\n",
    "   Name: \"Michael Jackson\"\n",
    "   Statement=Name+\"is the best\"\n",
    "   Statement= \"Michael Jackson is the best\"\n",
    "\n",
    "Replicate Values of a Stirng\n",
    "\n",
    "3* \"Michael Jackson\"\n"
   ]
  },
  {
   "cell_type": "code",
   "execution_count": null,
   "metadata": {},
   "outputs": [],
   "source": [
    "#Quiz\n",
    "#What is the value of x?\n",
    "\n",
    "x = 3 + 2 * 2\n",
    "\n",
    "3 + 2* 2\n",
    "#Out: 7\n",
    "    \n",
    "#What is the value of y ?\n",
    "y = (3 + 2) * 2\n",
    "\n",
    "(3 + 2) * 2\n",
    "10\n",
    "\n",
    "x = 3 + 2 * 2\n",
    "y = (3 + 2) * 2\n",
    "\n",
    "z = x + y\n",
    "x + y\n",
    "17"
   ]
  },
  {
   "cell_type": "code",
   "execution_count": 48,
   "metadata": {
    "scrolled": true
   },
   "outputs": [
    {
     "data": {
      "text/plain": [
       "bool"
      ]
     },
     "execution_count": 48,
     "metadata": {},
     "output_type": "execute_result"
    }
   ],
   "source": [
    "\n",
    "type(True)"
   ]
  },
  {
   "cell_type": "code",
   "execution_count": 35,
   "metadata": {},
   "outputs": [],
   "source": [
    "#Python peforms Multiplication First\n",
    "\n",
    "#but expressions in parenthesis go first.\n",
    "\n",
    "#2 x 60 + 30 \n",
    "#120 + 30 = 150\n",
    "# press shift + enter to run command"
   ]
  },
  {
   "cell_type": "code",
   "execution_count": 41,
   "metadata": {},
   "outputs": [
    {
     "data": {
      "text/plain": [
       "150"
      ]
     },
     "execution_count": 41,
     "metadata": {},
     "output_type": "execute_result"
    }
   ],
   "source": [
    "2 * 60 + 30 "
   ]
  },
  {
   "cell_type": "code",
   "execution_count": 45,
   "metadata": {},
   "outputs": [
    {
     "data": {
      "text/plain": [
       "1920"
      ]
     },
     "execution_count": 45,
     "metadata": {},
     "output_type": "execute_result"
    }
   ],
   "source": [
    "(30 + 2) * 60"
   ]
  },
  {
   "cell_type": "code",
   "execution_count": 48,
   "metadata": {},
   "outputs": [],
   "source": [
    "#Variables\n",
    "\n",
    "#my_variables = 1\n",
    "\n",
    "#my_variable: 1"
   ]
  },
  {
   "cell_type": "code",
   "execution_count": 47,
   "metadata": {},
   "outputs": [
    {
     "ename": "SyntaxError",
     "evalue": "invalid syntax (<ipython-input-47-f0cf493becf4>, line 10)",
     "output_type": "error",
     "traceback": [
      "\u001b[1;36m  File \u001b[1;32m\"<ipython-input-47-f0cf493becf4>\"\u001b[1;36m, line \u001b[1;32m10\u001b[0m\n\u001b[1;33m    ' symbol makes it a string'  '1' is a string and not an integer because it has ''\u001b[0m\n\u001b[1;37m                                               ^\u001b[0m\n\u001b[1;31mSyntaxError\u001b[0m\u001b[1;31m:\u001b[0m invalid syntax\n"
     ]
    }
   ],
   "source": [
    "#Float = 1.33\n",
    "#Integer = -1, 0, 3, etc. \n",
    "\n",
    "#Rounding: If go from float to integer, Python always rounds down\n",
    "\n",
    "#Type Command =  type(1) < will print data type (Object). This one is an Integer, and not a decimal place Float. \n",
    "\n",
    "#Typecasting = changing the Object (data) Type\n",
    "\n",
    "' symbol makes it a string'  '1' is a string and not an integer because it has ''\n",
    "    "
   ]
  },
  {
   "cell_type": "code",
   "execution_count": 1,
   "metadata": {},
   "outputs": [
    {
     "name": "stdout",
     "output_type": "stream",
     "text": [
      "Hello World!\n"
     ]
    }
   ],
   "source": [
    "print('Hello World!')"
   ]
  },
  {
   "cell_type": "code",
   "execution_count": 2,
   "metadata": {},
   "outputs": [
    {
     "name": "stdout",
     "output_type": "stream",
     "text": [
      "Hello Python 101\n"
     ]
    }
   ],
   "source": [
    "print (\"Hello Python 101\") #this is my comment\n",
    "#print('Hi')"
   ]
  },
  {
   "cell_type": "code",
   "execution_count": 5,
   "metadata": {},
   "outputs": [
    {
     "name": "stdout",
     "output_type": "stream",
     "text": [
      "This will be printed\n"
     ]
    },
    {
     "ename": "NameError",
     "evalue": "name 'frint' is not defined",
     "output_type": "error",
     "traceback": [
      "\u001b[1;31m---------------------------------------------------------------------------\u001b[0m",
      "\u001b[1;31mNameError\u001b[0m                                 Traceback (most recent call last)",
      "\u001b[1;32m<ipython-input-5-aa3f0d14d353>\u001b[0m in \u001b[0;36m<module>\u001b[1;34m()\u001b[0m\n\u001b[0;32m      1\u001b[0m \u001b[0mprint\u001b[0m\u001b[1;33m(\u001b[0m\u001b[1;34m\"This will be printed\"\u001b[0m\u001b[1;33m)\u001b[0m\u001b[1;33m\u001b[0m\u001b[0m\n\u001b[1;32m----> 2\u001b[1;33m \u001b[0mfrint\u001b[0m\u001b[1;33m(\u001b[0m\u001b[1;34m\"This will cause an error\"\u001b[0m\u001b[1;33m)\u001b[0m\u001b[1;33m\u001b[0m\u001b[0m\n\u001b[0m\u001b[0;32m      3\u001b[0m \u001b[0mprint\u001b[0m\u001b[1;33m(\u001b[0m\u001b[1;34m\"This will NOT be printed\"\u001b[0m\u001b[1;33m)\u001b[0m\u001b[1;33m\u001b[0m\u001b[0m\n",
      "\u001b[1;31mNameError\u001b[0m: name 'frint' is not defined"
     ]
    }
   ],
   "source": [
    "print(\"This will be printed\")\n",
    "frint(\"This will cause an error\")\n",
    "print(\"This will NOT be printed\")"
   ]
  },
  {
   "cell_type": "code",
   "execution_count": 6,
   "metadata": {},
   "outputs": [
    {
     "name": "stdout",
     "output_type": "stream",
     "text": [
      "hello world\n"
     ]
    }
   ],
   "source": [
    "print('hello world') #printing hello world"
   ]
  },
  {
   "cell_type": "code",
   "execution_count": 10,
   "metadata": {},
   "outputs": [
    {
     "data": {
      "text/plain": [
       "int"
      ]
     },
     "execution_count": 10,
     "metadata": {},
     "output_type": "execute_result"
    }
   ],
   "source": [
    "#use type command to see data type\n",
    "\n",
    "type(12)\n"
   ]
  },
  {
   "cell_type": "code",
   "execution_count": 11,
   "metadata": {},
   "outputs": [
    {
     "data": {
      "text/plain": [
       "float"
      ]
     },
     "execution_count": 11,
     "metadata": {},
     "output_type": "execute_result"
    }
   ],
   "source": [
    "type(2.14)\n"
   ]
  },
  {
   "cell_type": "code",
   "execution_count": 12,
   "metadata": {},
   "outputs": [
    {
     "data": {
      "text/plain": [
       "str"
      ]
     },
     "execution_count": 12,
     "metadata": {},
     "output_type": "execute_result"
    }
   ],
   "source": [
    "type(\"Hellow Python 101\")"
   ]
  },
  {
   "cell_type": "code",
   "execution_count": 1,
   "metadata": {},
   "outputs": [
    {
     "data": {
      "text/plain": [
       "int"
      ]
     },
     "execution_count": 1,
     "metadata": {},
     "output_type": "execute_result"
    }
   ],
   "source": [
    "type(-1)"
   ]
  },
  {
   "cell_type": "code",
   "execution_count": 2,
   "metadata": {},
   "outputs": [
    {
     "data": {
      "text/plain": [
       "int"
      ]
     },
     "execution_count": 2,
     "metadata": {},
     "output_type": "execute_result"
    }
   ],
   "source": [
    "type(4)"
   ]
  },
  {
   "cell_type": "code",
   "execution_count": 3,
   "metadata": {},
   "outputs": [
    {
     "data": {
      "text/plain": [
       "int"
      ]
     },
     "execution_count": 3,
     "metadata": {},
     "output_type": "execute_result"
    }
   ],
   "source": [
    "type(0)"
   ]
  },
  {
   "cell_type": "code",
   "execution_count": 10,
   "metadata": {},
   "outputs": [
    {
     "data": {
      "text/plain": [
       "2.0"
      ]
     },
     "execution_count": 10,
     "metadata": {},
     "output_type": "execute_result"
    }
   ],
   "source": [
    "#Convert Object\n",
    "\n",
    "float(2)\n",
    "\n"
   ]
  },
  {
   "cell_type": "code",
   "execution_count": 6,
   "metadata": {},
   "outputs": [
    {
     "data": {
      "text/plain": [
       "float"
      ]
     },
     "execution_count": 6,
     "metadata": {},
     "output_type": "execute_result"
    }
   ],
   "source": [
    "#Convert Object\n",
    "\n",
    "type(float(2))"
   ]
  },
  {
   "cell_type": "code",
   "execution_count": 11,
   "metadata": {},
   "outputs": [
    {
     "data": {
      "text/plain": [
       "1"
      ]
     },
     "execution_count": 11,
     "metadata": {},
     "output_type": "execute_result"
    }
   ],
   "source": [
    "#Convert to Integer\n",
    "\n",
    "int(1.9)"
   ]
  },
  {
   "cell_type": "code",
   "execution_count": 12,
   "metadata": {},
   "outputs": [
    {
     "data": {
      "text/plain": [
       "1.2"
      ]
     },
     "execution_count": 12,
     "metadata": {},
     "output_type": "execute_result"
    }
   ],
   "source": [
    "#Convert STring to Float\n",
    "float('1.2')"
   ]
  },
  {
   "cell_type": "code",
   "execution_count": 13,
   "metadata": {},
   "outputs": [
    {
     "ename": "SyntaxError",
     "evalue": "invalid syntax (<ipython-input-13-2d7c40b3b78d>, line 1)",
     "output_type": "error",
     "traceback": [
      "\u001b[1;36m  File \u001b[1;32m\"<ipython-input-13-2d7c40b3b78d>\"\u001b[1;36m, line \u001b[1;32m1\u001b[0m\n\u001b[1;33m    However we cannot convert a string with a non-numerical value to an integer or float\u001b[0m\n\u001b[1;37m             ^\u001b[0m\n\u001b[1;31mSyntaxError\u001b[0m\u001b[1;31m:\u001b[0m invalid syntax\n"
     ]
    }
   ],
   "source": [
    "However we cannot convert a string with a non-numerical value to an integer or float\n",
    "\n",
    "int(\"A\")"
   ]
  },
  {
   "cell_type": "code",
   "execution_count": 14,
   "metadata": {},
   "outputs": [
    {
     "data": {
      "text/plain": [
       "'1.2'"
      ]
     },
     "execution_count": 14,
     "metadata": {},
     "output_type": "execute_result"
    }
   ],
   "source": [
    "#You can however convert an int (integer) to a Str (String)\n",
    "\n",
    "str(1.2)"
   ]
  },
  {
   "cell_type": "code",
   "execution_count": 15,
   "metadata": {},
   "outputs": [
    {
     "data": {
      "text/plain": [
       "True"
      ]
     },
     "execution_count": 15,
     "metadata": {},
     "output_type": "execute_result"
    }
   ],
   "source": [
    "#Boolean is another important  type in Python; a Boolean can take on two values. The first value is true, just remember we use an uppercase T:\n",
    "\n",
    "True"
   ]
  },
  {
   "cell_type": "code",
   "execution_count": 17,
   "metadata": {},
   "outputs": [
    {
     "data": {
      "text/plain": [
       "False"
      ]
     },
     "execution_count": 17,
     "metadata": {},
     "output_type": "execute_result"
    }
   ],
   "source": [
    "# Boolean values can also be false, with  an uppercase F:\n",
    "False"
   ]
  },
  {
   "cell_type": "code",
   "execution_count": 18,
   "metadata": {},
   "outputs": [
    {
     "data": {
      "text/plain": [
       "bool"
      ]
     },
     "execution_count": 18,
     "metadata": {},
     "output_type": "execute_result"
    }
   ],
   "source": [
    "#Using the type command on a Boolean value we  obtain the term bool, this is short for Boolean \n",
    "\n",
    "type(True)"
   ]
  },
  {
   "cell_type": "code",
   "execution_count": 19,
   "metadata": {},
   "outputs": [
    {
     "data": {
      "text/plain": [
       "bool"
      ]
     },
     "execution_count": 19,
     "metadata": {},
     "output_type": "execute_result"
    }
   ],
   "source": [
    "type(False)"
   ]
  },
  {
   "cell_type": "code",
   "execution_count": 20,
   "metadata": {},
   "outputs": [
    {
     "data": {
      "text/plain": [
       "1"
      ]
     },
     "execution_count": 20,
     "metadata": {},
     "output_type": "execute_result"
    }
   ],
   "source": [
    "#If we cast a Boolean true to an integer or float we will get a 1, if we cast a Boolean false to an integer or float. If we get a zero if you cast a 1 to a boolean, you get a true similarly, if you cast a 0 to a Boolean you get a false.\n",
    "\n",
    "int(True)"
   ]
  },
  {
   "cell_type": "code",
   "execution_count": 21,
   "metadata": {},
   "outputs": [
    {
     "data": {
      "text/plain": [
       "True"
      ]
     },
     "execution_count": 21,
     "metadata": {},
     "output_type": "execute_result"
    }
   ],
   "source": [
    "bool(1)"
   ]
  },
  {
   "cell_type": "code",
   "execution_count": 22,
   "metadata": {},
   "outputs": [
    {
     "data": {
      "text/plain": [
       "False"
      ]
     },
     "execution_count": 22,
     "metadata": {},
     "output_type": "execute_result"
    }
   ],
   "source": [
    "bool(0)"
   ]
  },
  {
   "cell_type": "code",
   "execution_count": 27,
   "metadata": {},
   "outputs": [
    {
     "data": {
      "text/plain": [
       "1.0"
      ]
     },
     "execution_count": 27,
     "metadata": {},
     "output_type": "execute_result"
    }
   ],
   "source": [
    "float(True)"
   ]
  },
  {
   "cell_type": "code",
   "execution_count": 28,
   "metadata": {},
   "outputs": [],
   "source": [
    "#Quiz / Test"
   ]
  },
  {
   "cell_type": "code",
   "execution_count": 1,
   "metadata": {},
   "outputs": [
    {
     "data": {
      "text/plain": [
       "150"
      ]
     },
     "execution_count": 1,
     "metadata": {},
     "output_type": "execute_result"
    }
   ],
   "source": [
    "#Python follows mathematical conventions when performing mathematical expressions. The following operations are in different order. In both cases Python performs multiplication, then addition to obtain the final result.\n",
    "\n",
    "2 * 60 + 30\n",
    "\n",
    "#The expressions in the parentheses are performed first. We then multiply the result by 60, the result is 1920.\n",
    "    \n",
    "(30 + 2) * 60  "
   ]
  },
  {
   "cell_type": "code",
   "execution_count": 2,
   "metadata": {},
   "outputs": [
    {
     "data": {
      "text/plain": [
       "1920"
      ]
     },
     "execution_count": 2,
     "metadata": {},
     "output_type": "execute_result"
    }
   ],
   "source": [
    "#The expressions in the parentheses are performed first. We then multiply the result by 60, the result is 1920.\n",
    "    \n",
    "(30 + 2) * 60   "
   ]
  },
  {
   "cell_type": "code",
   "execution_count": null,
   "metadata": {},
   "outputs": [],
   "source": [
    "#You can do a variety of mathematical operations in Python including:\n",
    "#addition: 2 + 2\n",
    "#subtraction: 5 - 2\n",
    "#multiplication: 3 * 2\n",
    "#division: 4 / 2\n",
    "#exponentiation: 4 ** 2"
   ]
  },
  {
   "cell_type": "code",
   "execution_count": 3,
   "metadata": {},
   "outputs": [],
   "source": [
    "#variables\n"
   ]
  },
  {
   "cell_type": "code",
   "execution_count": 5,
   "metadata": {},
   "outputs": [
    {
     "data": {
      "text/plain": [
       "160"
      ]
     },
     "execution_count": 5,
     "metadata": {},
     "output_type": "execute_result"
    }
   ],
   "source": [
    "43 + 60 + 16 + 41"
   ]
  },
  {
   "cell_type": "code",
   "execution_count": 6,
   "metadata": {},
   "outputs": [],
   "source": [
    "43 + 60 + 16 + 41\n",
    "x = 43 + 60 + 16 + 41\n",
    "\n"
   ]
  },
  {
   "cell_type": "code",
   "execution_count": 12,
   "metadata": {},
   "outputs": [
    {
     "data": {
      "text/plain": [
       "2.6666666666666665"
      ]
     },
     "execution_count": 12,
     "metadata": {},
     "output_type": "execute_result"
    }
   ],
   "source": [
    "y = x / 60\n",
    "y"
   ]
  },
  {
   "cell_type": "code",
   "execution_count": 20,
   "metadata": {},
   "outputs": [
    {
     "data": {
      "text/plain": [
       "60"
      ]
     },
     "execution_count": 20,
     "metadata": {},
     "output_type": "execute_result"
    }
   ],
   "source": [
    "#It's good practice to use **meaningful variable names**, so you don't have to keep track of what variable is what:\n",
    "    \n",
    "total_min = (30 + 30 )\n",
    "total_min"
   ]
  },
  {
   "cell_type": "code",
   "execution_count": 21,
   "metadata": {},
   "outputs": [
    {
     "data": {
      "text/plain": [
       "1.0"
      ]
     },
     "execution_count": 21,
     "metadata": {},
     "output_type": "execute_result"
    }
   ],
   "source": [
    "total_hr = total_min / 60  \n",
    "total_hr"
   ]
  },
  {
   "cell_type": "code",
   "execution_count": 23,
   "metadata": {},
   "outputs": [
    {
     "data": {
      "text/plain": [
       "2.3666666666666667"
      ]
     },
     "execution_count": 23,
     "metadata": {},
     "output_type": "execute_result"
    }
   ],
   "source": [
    "#You can put this all into a single expression, but remember to use **round brackets** to add together the album lengths first, before dividing by 60.\n",
    "\n",
    "total_hr = (43 + 42 + 57) / 60  # get total hours in a single expression\n",
    "total_hr"
   ]
  },
  {
   "cell_type": "code",
   "execution_count": 46,
   "metadata": {},
   "outputs": [
    {
     "data": {
      "text/plain": [
       "17"
      ]
     },
     "execution_count": 46,
     "metadata": {},
     "output_type": "execute_result"
    }
   ],
   "source": [
    "#Quiz\n",
    "#What is the value of x?\n",
    "\n",
    "x = 3 + 2 * 2\n",
    "\n",
    "3 + 2* 2\n",
    "#Out: 7\n",
    "    \n",
    "#What is the value of y ?\n",
    "y = (3 + 2) * 2\n",
    "\n",
    "(3 + 2) * 2\n",
    "10\n",
    "\n",
    "x = 3 + 2 * 2\n",
    "y = (3 + 2) * 2\n",
    "\n",
    "z = x + y\n",
    "x + y\n",
    "17"
   ]
  },
  {
   "cell_type": "code",
   "execution_count": 37,
   "metadata": {},
   "outputs": [],
   "source": [
    "x = 3 + 2 * 2\n"
   ]
  },
  {
   "cell_type": "code",
   "execution_count": 39,
   "metadata": {},
   "outputs": [],
   "source": [
    "y = (3 + 2) * 2\n"
   ]
  },
  {
   "cell_type": "code",
   "execution_count": 42,
   "metadata": {},
   "outputs": [
    {
     "data": {
      "text/plain": [
       "17"
      ]
     },
     "execution_count": 42,
     "metadata": {},
     "output_type": "execute_result"
    }
   ],
   "source": [
    "z = x + y\n",
    "x + y"
   ]
  },
  {
   "cell_type": "code",
   "execution_count": 2,
   "metadata": {},
   "outputs": [
    {
     "data": {
      "text/plain": [
       "'Michael JacksonMichael JacksonMichael Jackson'"
      ]
     },
     "execution_count": 2,
     "metadata": {},
     "output_type": "execute_result"
    }
   ],
   "source": [
    "3 * \"Michael Jackson\" \n"
   ]
  },
  {
   "cell_type": "code",
   "execution_count": 18,
   "metadata": {},
   "outputs": [],
   "source": [
    "Name = \"Michael Jackson\"\n",
    "Statement= Name+\"is the best\""
   ]
  },
  {
   "cell_type": "code",
   "execution_count": null,
   "metadata": {},
   "outputs": [],
   "source": []
  }
 ],
 "metadata": {
  "kernelspec": {
   "display_name": "Python 3",
   "language": "python",
   "name": "python3"
  },
  "language_info": {
   "codemirror_mode": {
    "name": "ipython",
    "version": 3
   },
   "file_extension": ".py",
   "mimetype": "text/x-python",
   "name": "python",
   "nbconvert_exporter": "python",
   "pygments_lexer": "ipython3",
   "version": "3.6.5"
  }
 },
 "nbformat": 4,
 "nbformat_minor": 2
}
